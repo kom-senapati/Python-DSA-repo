{
 "cells": [
  {
   "cell_type": "code",
   "execution_count": null,
   "metadata": {},
   "outputs": [],
   "source": [
    "def linear_search(arr, item) -> int:\n",
    "    for i in range(len(arr)):\n",
    "        if arr[i] == item:\n",
    "            return i\n",
    "\n",
    "    return -1\n",
    "\n",
    "\n",
    "\"\"\"\n",
    "Time Complexity : O(n)\n",
    "No sorting required\n",
    "\"\"\""
   ]
  },
  {
   "cell_type": "code",
   "execution_count": null,
   "metadata": {},
   "outputs": [],
   "source": [
    "def binary_search(arr, low, high, item):\n",
    "    if low > high:\n",
    "        return -1\n",
    "\n",
    "    mid = (low + high) // 2\n",
    "\n",
    "    if arr[mid] == item:\n",
    "        return mid\n",
    "    elif arr[mid] > item:\n",
    "        return binary_search(arr, low, mid - 1, item)\n",
    "    else:\n",
    "        return binary_search(arr, mid + 1, high, item)\n",
    "\n",
    "\n",
    "\"\"\"\n",
    "Time Complexity : O(log n)\n",
    "Sorting required\n",
    "\"\"\""
   ]
  }
 ],
 "metadata": {
  "language_info": {
   "name": "python"
  },
  "orig_nbformat": 4
 },
 "nbformat": 4,
 "nbformat_minor": 2
}
