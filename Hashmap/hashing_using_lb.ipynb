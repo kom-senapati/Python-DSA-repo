{
 "cells": [
  {
   "cell_type": "code",
   "execution_count": 30,
   "metadata": {},
   "outputs": [],
   "source": [
    "class Dictionary:\n",
    "    def __init__(self, size) -> None:\n",
    "        self.size = size\n",
    "        self.slots = [None] * self.size\n",
    "        self.data = [None] * self.size\n",
    "\n",
    "    def hash_func(self, key):\n",
    "        return abs(hash(key)) % self.size\n",
    "\n",
    "    def rehash(self, old_hash):\n",
    "        return (old_hash + 1) % self.size\n",
    "\n",
    "    def __setitem__(self, key, value):\n",
    "        hash_value = self.hash_func(key)\n",
    "\n",
    "        if self.slots[hash_value] == None:\n",
    "            self.slots[hash_value] = key\n",
    "            self.data[hash_value] = value\n",
    "\n",
    "        else:\n",
    "            if self.slots[hash_value] == key:\n",
    "                self.data[hash_value] = value\n",
    "\n",
    "            else:\n",
    "                new_hash_value = self.rehash(hash_value)\n",
    "\n",
    "                while (\n",
    "                    self.slots[new_hash_value] != None\n",
    "                    and self.slots[new_hash_value] != key\n",
    "                ):\n",
    "                    new_hash_value = self.rehash(new_hash_value)\n",
    "\n",
    "                if self.slots[new_hash_value] == None:\n",
    "                    self.slots[new_hash_value] = key\n",
    "                    self.data[new_hash_value] = value\n",
    "                else:\n",
    "                    self.data[new_hash_value] = value\n",
    "\n",
    "    def __getitem__(self, key):\n",
    "        start_pos = self.hash_func(key)\n",
    "        current_pos = start_pos\n",
    "\n",
    "        while self.slots[current_pos] != None:\n",
    "            if self.slots[current_pos] == key:\n",
    "                return self.data[current_pos]\n",
    "\n",
    "            current_pos = self.rehash(current_pos)\n",
    "\n",
    "            if current_pos == start_pos:\n",
    "                return \"Not Found\"\n",
    "\n",
    "        return \"Not Found\"\n",
    "\n",
    "    def __str__(self) -> str:\n",
    "        res = \"\"\n",
    "        for i in range(self.size):\n",
    "            res += f\"{self.slots[i]}:{self.data[i]}, \"\n",
    "\n",
    "        return \"{\" + res[:-2] + \"}\"\n"
   ]
  },
  {
   "cell_type": "code",
   "execution_count": 42,
   "metadata": {},
   "outputs": [],
   "source": [
    "D = Dictionary(3)"
   ]
  },
  {
   "cell_type": "code",
   "execution_count": 43,
   "metadata": {},
   "outputs": [
    {
     "name": "stdout",
     "output_type": "stream",
     "text": [
      "{Java:2, C:-1, Python:3}\n"
     ]
    }
   ],
   "source": [
    "D[\"Java\"] = 2\n",
    "D[\"Python\"] = 3\n",
    "D[\"C\"] = -1\n",
    "print(D)\n"
   ]
  }
 ],
 "metadata": {
  "kernelspec": {
   "display_name": "Python 3",
   "language": "python",
   "name": "python3"
  },
  "language_info": {
   "codemirror_mode": {
    "name": "ipython",
    "version": 3
   },
   "file_extension": ".py",
   "mimetype": "text/x-python",
   "name": "python",
   "nbconvert_exporter": "python",
   "pygments_lexer": "ipython3",
   "version": "3.11.0"
  },
  "orig_nbformat": 4
 },
 "nbformat": 4,
 "nbformat_minor": 2
}
