{
 "cells": [
  {
   "cell_type": "code",
   "execution_count": 1,
   "metadata": {},
   "outputs": [],
   "source": [
    "class Stack:\n",
    "    def __init__(self, size) -> None:\n",
    "        self.size = size\n",
    "        self.stack = [None] * size\n",
    "        self.top = -1\n",
    "\n",
    "    def isEmpty(self):\n",
    "        return self.top == -1\n",
    "\n",
    "    def peek(self):\n",
    "        return self.stack[self.top]\n",
    "\n",
    "    def push(self, value):\n",
    "        if self.top == self.size - 1:\n",
    "            return \"Overflow\"\n",
    "        self.top += 1\n",
    "        self.stack[self.top] = value\n",
    "\n",
    "    def pop(self):\n",
    "        if self.isEmpty():\n",
    "            return \"Underflow\"\n",
    "        data = self.stack[self.top]\n",
    "        self.top -= 1\n",
    "        return data\n",
    "\n",
    "    def traverse(self):\n",
    "        for i in range(self.top + 1):\n",
    "            print(self.stack[i], end=\" \")"
   ]
  }
 ],
 "metadata": {
  "kernelspec": {
   "display_name": "Python 3",
   "language": "python",
   "name": "python3"
  },
  "language_info": {
   "codemirror_mode": {
    "name": "ipython",
    "version": 3
   },
   "file_extension": ".py",
   "mimetype": "text/x-python",
   "name": "python",
   "nbconvert_exporter": "python",
   "pygments_lexer": "ipython3",
   "version": "3.11.0"
  },
  "orig_nbformat": 4
 },
 "nbformat": 4,
 "nbformat_minor": 2
}
