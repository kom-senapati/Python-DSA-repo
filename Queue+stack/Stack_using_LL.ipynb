{
 "cells": [
  {
   "cell_type": "code",
   "execution_count": 1,
   "metadata": {},
   "outputs": [],
   "source": [
    "class Node:\n",
    "    def __init__(self, value) -> None:\n",
    "        self.data = value\n",
    "        self.next = None"
   ]
  },
  {
   "cell_type": "code",
   "execution_count": 2,
   "metadata": {},
   "outputs": [],
   "source": [
    "class Stack:\n",
    "    def __init__(self) -> None:\n",
    "        self.top = None\n",
    "\n",
    "    def isEmpty(self):\n",
    "        return self.top == None\n",
    "\n",
    "    def peek(self):\n",
    "        return self.top.data if not self.isEmpty() else \"Empty stack\"\n",
    "\n",
    "    def push(self, value):\n",
    "        new_node = Node(value)\n",
    "        new_node.next = self.top\n",
    "        self.top = new_node\n",
    "\n",
    "    def pop(self):\n",
    "        if self.isEmpty():\n",
    "            return \"Empty stack\"\n",
    "        data = self.top.data\n",
    "        self.top = self.top.next\n",
    "        return data\n",
    "\n",
    "    def traverse(self):\n",
    "        temp = self.top\n",
    "        while temp:\n",
    "            print(temp.data, end=\" \")\n",
    "            temp = temp.next\n",
    "        print(\"\\n\")\n",
    "\n",
    "    def __len__(self):\n",
    "        n = 0\n",
    "        temp = self.top\n",
    "        while temp:\n",
    "            n += 1\n",
    "            temp = temp.next\n",
    "        return n"
   ]
  },
  {
   "cell_type": "code",
   "execution_count": 3,
   "metadata": {},
   "outputs": [
    {
     "data": {
      "text/plain": [
       "'dlroW olleH'"
      ]
     },
     "execution_count": 3,
     "metadata": {},
     "output_type": "execute_result"
    }
   ],
   "source": [
    "def reverse_str(string):\n",
    "    s = Stack()\n",
    "    for ch in string:\n",
    "        s.push(ch)\n",
    "    new_str = \"\"\n",
    "    for _ in range(len(s)):\n",
    "        new_str = new_str + s.pop()\n",
    "    return new_str\n",
    "\n",
    "\n",
    "reverse_str(\"Hello World\")"
   ]
  },
  {
   "cell_type": "code",
   "execution_count": 4,
   "metadata": {},
   "outputs": [
    {
     "data": {
      "text/plain": [
       "'Hell'"
      ]
     },
     "execution_count": 4,
     "metadata": {},
     "output_type": "execute_result"
    }
   ],
   "source": [
    "def undo_redo_problem(string, input):\n",
    "    s = Stack()\n",
    "    for i in input.lower():\n",
    "        if i == \"u\":\n",
    "            s.push(string[-1])\n",
    "            string = string[:-1]\n",
    "        if i == \"r\":\n",
    "            ch = s.pop()\n",
    "            string = string + ch\n",
    "    return string\n",
    "\n",
    "\n",
    "undo_redo_problem(\"Hello\", \"uuurr\")"
   ]
  },
  {
   "cell_type": "code",
   "execution_count": 5,
   "metadata": {},
   "outputs": [
    {
     "data": {
      "text/plain": [
       "2"
      ]
     },
     "execution_count": 5,
     "metadata": {},
     "output_type": "execute_result"
    }
   ],
   "source": [
    "L = [[0, 0, 1, 1], [0, 0, 1, 0], [0, 0, 0, 0], [0, 0, 1, 0]]\n",
    "\n",
    "\n",
    "def celebrity(L):\n",
    "    s = Stack()\n",
    "    for n in range(len(L)):\n",
    "        s.push(n)\n",
    "\n",
    "    while len(s) >= 2:\n",
    "        a = s.pop()\n",
    "        b = s.pop()\n",
    "\n",
    "        if L[a][b] == 0:\n",
    "            s.push(a)\n",
    "        else:\n",
    "            s.push(b)\n",
    "\n",
    "    celeb = s.pop()\n",
    "    for i in range(len(L)):\n",
    "        if i != celeb:\n",
    "            if L[celeb][i] == 1 or L[i][celeb] == 0:\n",
    "                return None\n",
    "\n",
    "    return celeb\n",
    "\n",
    "\n",
    "celebrity(L)"
   ]
  },
  {
   "cell_type": "code",
   "execution_count": 15,
   "metadata": {},
   "outputs": [
    {
     "data": {
      "text/plain": [
       "False"
      ]
     },
     "execution_count": 15,
     "metadata": {},
     "output_type": "execute_result"
    }
   ],
   "source": [
    "def bracket_balance(exp) -> bool:\n",
    "    check = {\"]\": \"[\", \"}\": \"{\", \")\": \"(\"}\n",
    "    s = Stack()\n",
    "    for ch in exp:\n",
    "        if ch in \"[{(\":\n",
    "            s.push(ch)\n",
    "        elif ch in \")}]\":\n",
    "            if s.peek() == check[ch]:\n",
    "                s.pop()\n",
    "            else:\n",
    "                return False\n",
    "    return len(s) == 0\n",
    "\n",
    "\n",
    "bracket_balance(\"[a+b]}\")"
   ]
  }
 ],
 "metadata": {
  "kernelspec": {
   "display_name": "Python 3",
   "language": "python",
   "name": "python3"
  },
  "language_info": {
   "codemirror_mode": {
    "name": "ipython",
    "version": 3
   },
   "file_extension": ".py",
   "mimetype": "text/x-python",
   "name": "python",
   "nbconvert_exporter": "python",
   "pygments_lexer": "ipython3",
   "version": "3.11.0"
  },
  "orig_nbformat": 4
 },
 "nbformat": 4,
 "nbformat_minor": 2
}
